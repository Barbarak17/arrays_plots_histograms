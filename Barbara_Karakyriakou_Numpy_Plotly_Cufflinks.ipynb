{
 "cells": [
  {
   "cell_type": "markdown",
   "metadata": {},
   "source": [
    "### Your Name: Barbara Karakyriakou\n",
    "### CSCI E-29"
   ]
  },
  {
   "cell_type": "code",
   "execution_count": 2,
   "metadata": {},
   "outputs": [
    {
     "data": {
      "text/html": [
       "        <script type=\"text/javascript\">\n",
       "        window.PlotlyConfig = {MathJaxConfig: 'local'};\n",
       "        if (window.MathJax) {MathJax.Hub.Config({SVG: {font: \"STIX-Web\"}});}\n",
       "        if (typeof require !== 'undefined') {\n",
       "        require.undef(\"plotly\");\n",
       "        requirejs.config({\n",
       "            paths: {\n",
       "                'plotly': ['https://cdn.plot.ly/plotly-latest.min']\n",
       "            }\n",
       "        });\n",
       "        require(['plotly'], function(Plotly) {\n",
       "            window._Plotly = Plotly;\n",
       "        });\n",
       "        }\n",
       "        </script>\n",
       "        "
      ]
     },
     "metadata": {},
     "output_type": "display_data"
    },
    {
     "data": {
      "text/html": [
       "        <script type=\"text/javascript\">\n",
       "        window.PlotlyConfig = {MathJaxConfig: 'local'};\n",
       "        if (window.MathJax) {MathJax.Hub.Config({SVG: {font: \"STIX-Web\"}});}\n",
       "        if (typeof require !== 'undefined') {\n",
       "        require.undef(\"plotly\");\n",
       "        requirejs.config({\n",
       "            paths: {\n",
       "                'plotly': ['https://cdn.plot.ly/plotly-latest.min']\n",
       "            }\n",
       "        });\n",
       "        require(['plotly'], function(Plotly) {\n",
       "            window._Plotly = Plotly;\n",
       "        });\n",
       "        }\n",
       "        </script>\n",
       "        "
      ]
     },
     "metadata": {},
     "output_type": "display_data"
    }
   ],
   "source": [
    "%matplotlib inline\n",
    "#We took care of imports\n",
    "import pandas as pd\n",
    "import plotly\n",
    "plotly.offline.init_notebook_mode(connected=True)\n",
    "import plotly.graph_objs as go\n",
    "import numpy as np\n",
    "import cufflinks as cf\n",
    "cf.go_offline()"
   ]
  },
  {
   "cell_type": "markdown",
   "metadata": {},
   "source": [
    "## Problem 1: Rick Astley's Pandas-Free Python Indexer \n",
    "### 5 points\n",
    "\n",
    "We have two dictionary structures, one with a key index which has numerical values (d_i),\n",
    "and another (d_s) whose key 'index' maps to string values. Let's assume that 'index' is a special index for 'data'.\n",
    "\n",
    "\n",
    "Your mission is to create the yougetme function.\n",
    "This function has two parameters:\n",
    "1. A dictionary\n",
    "2. An index\n",
    "\n",
    "yougetme should work as follows:\n",
    "Given any of the two dictionaries and an index, it should return the corresponding data for that index from 'data'.\n",
    "\n",
    "The same function should work if you use it for d_i with a numerical index, or d_s with the index being a string.\n",
    "\n",
    "print (yougetme(d_s,\"Never\")) should return 2\n",
    "\n",
    "\n",
    "print (yougetme(d_i,2)) should return Never\n",
    "\n",
    "Hint1: This is plain python indexing, no pandas.\n",
    "\n",
    "Hint2: It can be solved with 1 line of code"
   ]
  },
  {
   "cell_type": "code",
   "execution_count": 3,
   "metadata": {},
   "outputs": [
    {
     "name": "stdout",
     "output_type": "stream",
     "text": [
      "2\n",
      "Never\n"
     ]
    }
   ],
   "source": [
    "d_i = {'index':[2,4,6,8,10],\n",
    "       'data':[\"Never\",'Gonna','Give','You','Up'],\n",
    "       'name':'Rick'\n",
    "      }\n",
    "d_s = {'index':[\"Never\",'Gonna','Let','You','Down'],\n",
    "       'data':[2,4,6,8,10],\n",
    "       'name':'Astley'}\n",
    "\n",
    "\n",
    "def yougetme(d, i):\n",
    "    \"\"\"\n",
    "    I just wanna tell you how I'm feeling\n",
    "    Gotta make you understand that you should always say what your functions do.   \n",
    "    \"\"\"\n",
    "    #YOUR CODE HERE\n",
    "    # return the value of the key 'data' that has the same index as the key 'index'.\n",
    "    return d['data'][d['index'].index(i)]\n",
    "#Uncomment when finished with section\n",
    "print (yougetme(d_s,\"Never\"))\n",
    "print (yougetme(d_i,2))  "
   ]
  },
  {
   "cell_type": "markdown",
   "metadata": {},
   "source": [
    "## Problem 2: Grandmaster\n",
    "### 12 points\n",
    "\n",
    "Let's move to NumPy.\n",
    "\n",
    "This is a chessboard.  We will use NumPy to do some interesting manipulations to make some shapes.\n",
    "<center><img style=\"align: center;\"  src=\"https://github.com/sunworshipper/e29/blob/master/Lecture_3/images/chess.jpg?raw=true\"> </center>\n",
    "\n",
    "Note: You will not get any credit it you build or manipulate your board with manually engineered sequences that are stitched together. We are looking for slicing and steps.\n"
   ]
  },
  {
   "cell_type": "markdown",
   "metadata": {},
   "source": [
    "### 2.1 Make a Chess Board with 3 lines of code\n",
    "### 5 points\n",
    "\n",
    "* Using numpy simulate a chessboard with a 2d matrix where the green squares are 1 and the white squares are 0.\n",
    "* Full credit for solution in 3 lines of code or less\n",
    "* Half credit for solution with > 3 lines of code"
   ]
  },
  {
   "cell_type": "code",
   "execution_count": 4,
   "metadata": {},
   "outputs": [
    {
     "name": "stdout",
     "output_type": "stream",
     "text": [
      "[[1 0 1 0 1 0 1 0]\n",
      " [0 1 0 1 0 1 0 1]\n",
      " [1 0 1 0 1 0 1 0]\n",
      " [0 1 0 1 0 1 0 1]\n",
      " [1 0 1 0 1 0 1 0]\n",
      " [0 1 0 1 0 1 0 1]\n",
      " [1 0 1 0 1 0 1 0]\n",
      " [0 1 0 1 0 1 0 1]]\n"
     ]
    }
   ],
   "source": [
    "#Hint: You can start with ones or zeros but maybe you have a better idea\n",
    "#YOUR CODE HERE\n",
    "# create an array of 8 numbers with np.arange and reshape it in one vertical column\n",
    "# add to the array 8 horizontal arrays of a length of 8 to create a matrix of 8x8\n",
    "# use the modulo operation to turn the numbers to 0 and 1 (even & odd respectively)\n",
    "# reverse the arrays to switch zeros with ones\n",
    "# ref: https://docs.scipy.org/doc/numpy/reference/generated/numpy.arange.html, \n",
    "chess = ((np.arange(8).reshape((8,1)) + np.arange(8)) % 2 )[::-1]\n",
    "#Uncomment when finished with section\n",
    "print(chess)"
   ]
  },
  {
   "cell_type": "markdown",
   "metadata": {},
   "source": [
    "### 2.2 A nice frame of zeros with 2 lines of code\n",
    "### 5 points\n",
    "\n",
    "* Definition of \"frame\": the outer most layer of the board should be all zeros (rows: a, h, columns: 1, 8)\n",
    "* Full credit for solution in 3 lines of code or less\n",
    "* Half credit for solution with > 3 lines of code"
   ]
  },
  {
   "cell_type": "code",
   "execution_count": 5,
   "metadata": {},
   "outputs": [
    {
     "name": "stdout",
     "output_type": "stream",
     "text": [
      "[[0 0 0 0 0 0 0 0 0 0]\n",
      " [0 1 0 1 0 1 0 1 0 0]\n",
      " [0 0 1 0 1 0 1 0 1 0]\n",
      " [0 1 0 1 0 1 0 1 0 0]\n",
      " [0 0 1 0 1 0 1 0 1 0]\n",
      " [0 1 0 1 0 1 0 1 0 0]\n",
      " [0 0 1 0 1 0 1 0 1 0]\n",
      " [0 1 0 1 0 1 0 1 0 0]\n",
      " [0 0 1 0 1 0 1 0 1 0]\n",
      " [0 0 0 0 0 0 0 0 0 0]]\n"
     ]
    }
   ],
   "source": [
    "#YOUR CODE HERE\n",
    "# apply a one number wide pad and with a constant value.\n",
    "# ref: https://docs.scipy.org/doc/numpy/reference/generated/numpy.pad.html\n",
    "chess = np.pad(chess,1,'constant')\n",
    "#Uncomment when finished with section\n",
    "print (chess)"
   ]
  },
  {
   "cell_type": "markdown",
   "metadata": {},
   "source": [
    "### 2.3 Convert Zeros to Ones and Ones to Zeros with 1 line of code\n",
    "\n",
    "### 2 points\n",
    "\n",
    "* Full credit for solution in 1 lines of code\n",
    "* Half credit for solution with > 1 lines of code"
   ]
  },
  {
   "cell_type": "code",
   "execution_count": 6,
   "metadata": {},
   "outputs": [
    {
     "name": "stdout",
     "output_type": "stream",
     "text": [
      "[[1 1 1 1 1 1 1 1 1 1]\n",
      " [1 0 1 0 1 0 1 0 1 1]\n",
      " [1 1 0 1 0 1 0 1 0 1]\n",
      " [1 0 1 0 1 0 1 0 1 1]\n",
      " [1 1 0 1 0 1 0 1 0 1]\n",
      " [1 0 1 0 1 0 1 0 1 1]\n",
      " [1 1 0 1 0 1 0 1 0 1]\n",
      " [1 0 1 0 1 0 1 0 1 1]\n",
      " [1 1 0 1 0 1 0 1 0 1]\n",
      " [1 1 1 1 1 1 1 1 1 1]]\n"
     ]
    }
   ],
   "source": [
    "#YOUR CODE HERE\n",
    "# switch ones with zeros and vice versa\n",
    "chess = np.where(chess,[0],[1])\n",
    "#Uncomment when finished with section\n",
    "print (chess)"
   ]
  },
  {
   "cell_type": "markdown",
   "metadata": {
    "collapsed": true
   },
   "source": [
    "## Problem 3: Data Whisperer\n",
    "### 23 Points\n"
   ]
  },
  {
   "cell_type": "markdown",
   "metadata": {},
   "source": [
    "### 3.1. Load the data into two dataframes df_event1 and df_event2\n",
    "### 2 Points\n",
    "\n",
    "### 3.2. Name the columns using the event1_columns and event2_columns list\n",
    "### 2 Points\n",
    "\n",
    "\n",
    "Hint 1: The data has no headers so you should be careful how you load it"
   ]
  },
  {
   "cell_type": "code",
   "execution_count": 7,
   "metadata": {},
   "outputs": [
    {
     "data": {
      "text/html": [
       "<div>\n",
       "<style scoped>\n",
       "    .dataframe tbody tr th:only-of-type {\n",
       "        vertical-align: middle;\n",
       "    }\n",
       "\n",
       "    .dataframe tbody tr th {\n",
       "        vertical-align: top;\n",
       "    }\n",
       "\n",
       "    .dataframe thead th {\n",
       "        text-align: right;\n",
       "    }\n",
       "</style>\n",
       "<table border=\"1\" class=\"dataframe\">\n",
       "  <thead>\n",
       "    <tr style=\"text-align: right;\">\n",
       "      <th></th>\n",
       "      <th>query</th>\n",
       "      <th>strand</th>\n",
       "      <th>id</th>\n",
       "    </tr>\n",
       "  </thead>\n",
       "  <tbody>\n",
       "    <tr>\n",
       "      <td>count</td>\n",
       "      <td>19928</td>\n",
       "      <td>19928</td>\n",
       "      <td>19928</td>\n",
       "    </tr>\n",
       "    <tr>\n",
       "      <td>unique</td>\n",
       "      <td>4</td>\n",
       "      <td>2</td>\n",
       "      <td>19167</td>\n",
       "    </tr>\n",
       "    <tr>\n",
       "      <td>top</td>\n",
       "      <td>SNP_C</td>\n",
       "      <td>-</td>\n",
       "      <td>m54071_180125_192928/47710325/ccs</td>\n",
       "    </tr>\n",
       "    <tr>\n",
       "      <td>freq</td>\n",
       "      <td>13302</td>\n",
       "      <td>10526</td>\n",
       "      <td>2</td>\n",
       "    </tr>\n",
       "  </tbody>\n",
       "</table>\n",
       "</div>"
      ],
      "text/plain": [
       "        query strand                                 id\n",
       "count   19928  19928                              19928\n",
       "unique      4      2                              19167\n",
       "top     SNP_C      -  m54071_180125_192928/47710325/ccs\n",
       "freq    13302  10526                                  2"
      ]
     },
     "execution_count": 7,
     "metadata": {},
     "output_type": "execute_result"
    }
   ],
   "source": [
    "event1_columns = ['query', 'strand', 'id']\n",
    "event2_columns = ['query', 'strand', 'id','location']\n",
    "#YOUR CODE HERE\n",
    "df_event1 = pd.read_csv('event1.csv', header = None, names = event1_columns)\n",
    "df_event2 = pd.read_csv('event2.csv', header = None, names = event2_columns)\n",
    "#Uncomment when finished with section\n",
    "df_event1.describe()"
   ]
  },
  {
   "cell_type": "markdown",
   "metadata": {},
   "source": [
    "### 3.3. Filter out any rows where strand is -, keeping only read that have + for both df_event1 and df_event2 and keep the same names for the dfs.\n",
    "### 2 Points\n"
   ]
  },
  {
   "cell_type": "code",
   "execution_count": 8,
   "metadata": {},
   "outputs": [
    {
     "data": {
      "text/html": [
       "<div>\n",
       "<style scoped>\n",
       "    .dataframe tbody tr th:only-of-type {\n",
       "        vertical-align: middle;\n",
       "    }\n",
       "\n",
       "    .dataframe tbody tr th {\n",
       "        vertical-align: top;\n",
       "    }\n",
       "\n",
       "    .dataframe thead th {\n",
       "        text-align: right;\n",
       "    }\n",
       "</style>\n",
       "<table border=\"1\" class=\"dataframe\">\n",
       "  <thead>\n",
       "    <tr style=\"text-align: right;\">\n",
       "      <th></th>\n",
       "      <th>query</th>\n",
       "      <th>strand</th>\n",
       "      <th>id</th>\n",
       "    </tr>\n",
       "  </thead>\n",
       "  <tbody>\n",
       "    <tr>\n",
       "      <td>count</td>\n",
       "      <td>9402</td>\n",
       "      <td>9402</td>\n",
       "      <td>9402</td>\n",
       "    </tr>\n",
       "    <tr>\n",
       "      <td>unique</td>\n",
       "      <td>4</td>\n",
       "      <td>1</td>\n",
       "      <td>9396</td>\n",
       "    </tr>\n",
       "    <tr>\n",
       "      <td>top</td>\n",
       "      <td>SNP_C</td>\n",
       "      <td>+</td>\n",
       "      <td>m54071_180125_192928/44367941/ccs</td>\n",
       "    </tr>\n",
       "    <tr>\n",
       "      <td>freq</td>\n",
       "      <td>6408</td>\n",
       "      <td>9402</td>\n",
       "      <td>2</td>\n",
       "    </tr>\n",
       "  </tbody>\n",
       "</table>\n",
       "</div>"
      ],
      "text/plain": [
       "        query strand                                 id\n",
       "count    9402   9402                               9402\n",
       "unique      4      1                               9396\n",
       "top     SNP_C      +  m54071_180125_192928/44367941/ccs\n",
       "freq     6408   9402                                  2"
      ]
     },
     "execution_count": 8,
     "metadata": {},
     "output_type": "execute_result"
    }
   ],
   "source": [
    "#YOUR CODE HERE\n",
    "df_event1 = df_event1[(df_event1['strand'] == '+')]\n",
    "df_event2 = df_event2[(df_event2['strand'] == '+')]\n",
    "#Uncomment when finished with section\n",
    "df_event1.describe()"
   ]
  },
  {
   "cell_type": "markdown",
   "metadata": {},
   "source": [
    "### 3.4. Let's make sure df_event1 doesn't contain duplicates.  Remove all records that have a duplicate in column 'id' leaving only the first occurence of the record if duplicated\n",
    "### 2 Points\n",
    "\n",
    "\n",
    "Hint: Don't do this for df_event2"
   ]
  },
  {
   "cell_type": "code",
   "execution_count": 9,
   "metadata": {},
   "outputs": [
    {
     "data": {
      "text/html": [
       "<div>\n",
       "<style scoped>\n",
       "    .dataframe tbody tr th:only-of-type {\n",
       "        vertical-align: middle;\n",
       "    }\n",
       "\n",
       "    .dataframe tbody tr th {\n",
       "        vertical-align: top;\n",
       "    }\n",
       "\n",
       "    .dataframe thead th {\n",
       "        text-align: right;\n",
       "    }\n",
       "</style>\n",
       "<table border=\"1\" class=\"dataframe\">\n",
       "  <thead>\n",
       "    <tr style=\"text-align: right;\">\n",
       "      <th></th>\n",
       "      <th>query</th>\n",
       "      <th>strand</th>\n",
       "      <th>id</th>\n",
       "    </tr>\n",
       "  </thead>\n",
       "  <tbody>\n",
       "    <tr>\n",
       "      <td>count</td>\n",
       "      <td>9396</td>\n",
       "      <td>9396</td>\n",
       "      <td>9396</td>\n",
       "    </tr>\n",
       "    <tr>\n",
       "      <td>unique</td>\n",
       "      <td>4</td>\n",
       "      <td>1</td>\n",
       "      <td>9396</td>\n",
       "    </tr>\n",
       "    <tr>\n",
       "      <td>top</td>\n",
       "      <td>SNP_C</td>\n",
       "      <td>+</td>\n",
       "      <td>m54071_180125_192928/24117986/ccs</td>\n",
       "    </tr>\n",
       "    <tr>\n",
       "      <td>freq</td>\n",
       "      <td>6405</td>\n",
       "      <td>9396</td>\n",
       "      <td>1</td>\n",
       "    </tr>\n",
       "  </tbody>\n",
       "</table>\n",
       "</div>"
      ],
      "text/plain": [
       "        query strand                                 id\n",
       "count    9396   9396                               9396\n",
       "unique      4      1                               9396\n",
       "top     SNP_C      +  m54071_180125_192928/24117986/ccs\n",
       "freq     6405   9396                                  1"
      ]
     },
     "execution_count": 9,
     "metadata": {},
     "output_type": "execute_result"
    }
   ],
   "source": [
    "#YOUR CODE HERE\n",
    "\n",
    "df_event1 = df_event1.drop_duplicates(subset=['id'], keep='first')\n",
    "\n",
    "#Uncomment when finished with section\n",
    "df_event1.describe()"
   ]
  },
  {
   "cell_type": "markdown",
   "metadata": {},
   "source": [
    "### 3.5. Let's make some new columns and populate them\n",
    "### 2 Points\n",
    "\n",
    "\n",
    "#### Add a column called 'base' to df_event1, with the following values:\n",
    "\n",
    "#### A if value in query is SNP_A\n",
    "#### C if value in query is SNP_C\n",
    "#### G if value in query is SNP_G\n",
    "#### T if value in query is SNP_T\n"
   ]
  },
  {
   "cell_type": "code",
   "execution_count": 10,
   "metadata": {},
   "outputs": [
    {
     "data": {
      "text/html": [
       "<div>\n",
       "<style scoped>\n",
       "    .dataframe tbody tr th:only-of-type {\n",
       "        vertical-align: middle;\n",
       "    }\n",
       "\n",
       "    .dataframe tbody tr th {\n",
       "        vertical-align: top;\n",
       "    }\n",
       "\n",
       "    .dataframe thead th {\n",
       "        text-align: right;\n",
       "    }\n",
       "</style>\n",
       "<table border=\"1\" class=\"dataframe\">\n",
       "  <thead>\n",
       "    <tr style=\"text-align: right;\">\n",
       "      <th></th>\n",
       "      <th>query</th>\n",
       "      <th>strand</th>\n",
       "      <th>id</th>\n",
       "      <th>base</th>\n",
       "    </tr>\n",
       "  </thead>\n",
       "  <tbody>\n",
       "    <tr>\n",
       "      <td>0</td>\n",
       "      <td>SNP_A</td>\n",
       "      <td>+</td>\n",
       "      <td>m54071_180125_192928/26607712/ccs</td>\n",
       "      <td>A</td>\n",
       "    </tr>\n",
       "    <tr>\n",
       "      <td>1</td>\n",
       "      <td>SNP_A</td>\n",
       "      <td>+</td>\n",
       "      <td>m54071_180125_192928/56230297/ccs</td>\n",
       "      <td>A</td>\n",
       "    </tr>\n",
       "    <tr>\n",
       "      <td>2</td>\n",
       "      <td>SNP_A</td>\n",
       "      <td>+</td>\n",
       "      <td>m54071_180125_192928/55313126/ccs</td>\n",
       "      <td>A</td>\n",
       "    </tr>\n",
       "    <tr>\n",
       "      <td>3</td>\n",
       "      <td>SNP_A</td>\n",
       "      <td>+</td>\n",
       "      <td>m54071_180125_192928/24969975/ccs</td>\n",
       "      <td>A</td>\n",
       "    </tr>\n",
       "    <tr>\n",
       "      <td>4</td>\n",
       "      <td>SNP_A</td>\n",
       "      <td>+</td>\n",
       "      <td>m54071_180125_192928/68681809/ccs</td>\n",
       "      <td>A</td>\n",
       "    </tr>\n",
       "  </tbody>\n",
       "</table>\n",
       "</div>"
      ],
      "text/plain": [
       "   query strand                                 id base\n",
       "0  SNP_A      +  m54071_180125_192928/26607712/ccs    A\n",
       "1  SNP_A      +  m54071_180125_192928/56230297/ccs    A\n",
       "2  SNP_A      +  m54071_180125_192928/55313126/ccs    A\n",
       "3  SNP_A      +  m54071_180125_192928/24969975/ccs    A\n",
       "4  SNP_A      +  m54071_180125_192928/68681809/ccs    A"
      ]
     },
     "execution_count": 10,
     "metadata": {},
     "output_type": "execute_result"
    }
   ],
   "source": [
    "#YOUR CODE HERE\n",
    "# define a function named base with a parameter row.\n",
    "def base(row):\n",
    "    # 'if' condition to check the values for column 'query' and return the equivalent base.\n",
    "    if row['query'] == 'SNP_A':\n",
    "        return 'A'\n",
    "    elif row['query'] == 'SNP_C':\n",
    "        return 'C'\n",
    "    elif row['query'] == 'SNP_G':\n",
    "        return 'G'\n",
    "    else:\n",
    "        return 'T'\n",
    "\n",
    "# create a column 'base' and populate the rows with the values returned from the base function.\n",
    "df_event1['base'] = df_event1.apply(base, axis=1)\n",
    "\n",
    "#Uncomment when finished with section\n",
    "df_event1.head(5)"
   ]
  },
  {
   "cell_type": "markdown",
   "metadata": {},
   "source": [
    "### 3.6. Count all the values in df_event1['base'] and store them in a series object called df_event1_base_counts\n",
    "### 2 Points\n",
    "\n",
    "\n",
    "Hint: If you are on the right track the counts for C and G will be much larger than T and A here"
   ]
  },
  {
   "cell_type": "code",
   "execution_count": 11,
   "metadata": {},
   "outputs": [
    {
     "data": {
      "text/plain": [
       "C    6405\n",
       "G    2958\n",
       "T      21\n",
       "A      12\n",
       "Name: base, dtype: int64"
      ]
     },
     "execution_count": 11,
     "metadata": {},
     "output_type": "execute_result"
    }
   ],
   "source": [
    "#YOUR CODE HERE\n",
    "df_event1_base_counts = df_event1['base'].value_counts()\n",
    "#Uncomment when finished with section\n",
    "df_event1_base_counts"
   ]
  },
  {
   "cell_type": "markdown",
   "metadata": {},
   "source": [
    "### 3.7. Create a pie chart of the series object using the series plot function\n",
    "### 2 Points\n",
    "\n",
    "\n",
    "Hint: This is not plotly, but matplotlib, it's one line of code."
   ]
  },
  {
   "cell_type": "code",
   "execution_count": 12,
   "metadata": {},
   "outputs": [
    {
     "data": {
      "text/plain": [
       "<matplotlib.axes._subplots.AxesSubplot at 0x1c1c024fd0>"
      ]
     },
     "execution_count": 12,
     "metadata": {},
     "output_type": "execute_result"
    },
    {
     "data": {
      "image/png": "[encoded data removed]",
      "text/plain": [
       "<Figure size 432x288 with 1 Axes>"
      ]
     },
     "metadata": {},
     "output_type": "display_data"
    }
   ],
   "source": [
    "#YOUR CODE HERE\n",
    "df_event1_base_counts.plot(kind='pie', radius = 2, fontsize=10, label='', startangle = 90, explode = (0.1, 0.1,0.15, 0.3))"
   ]
  },
  {
   "cell_type": "markdown",
   "metadata": {},
   "source": [
    "### 3.8. Reshape df_event2\n",
    "### 2 Points\n",
    "\n",
    "\n",
    "Let's shift our attention to df_event2.  df_event2 is interesting because in the query column it contains 2 types of coordinates.  We want to only work with ids that have a left and right coordinate so we can measure the distance between the coordinates.  The ideal shape for this would be to have a df that looks like this:\n",
    "\n",
    "id, lc_location, rc_location\n",
    "\n",
    "where lc_location, rc_location are the left and right coordinate location (from the column location)\n",
    "\n",
    "note that we no longer need strand.\n",
    "\n",
    "Tasks:\n",
    "\n",
    "* Use groupby to create a group g on query\n",
    "* Get get the 2 dfs from your group object by their key to create the df_left and df_right dataframes\n",
    "* Merge these dfs on id creating a merged_event2 df using an inner join on the id columns\n",
    "* Drop the unnecessary columns by selecting only the ones for the ideal shape for the next step as listed above\n",
    "* Rename the location columns to lc_location and rc_location"
   ]
  },
  {
   "cell_type": "code",
   "execution_count": 13,
   "metadata": {},
   "outputs": [
    {
     "data": {
      "text/html": [
       "<div>\n",
       "<style scoped>\n",
       "    .dataframe tbody tr th:only-of-type {\n",
       "        vertical-align: middle;\n",
       "    }\n",
       "\n",
       "    .dataframe tbody tr th {\n",
       "        vertical-align: top;\n",
       "    }\n",
       "\n",
       "    .dataframe thead th {\n",
       "        text-align: right;\n",
       "    }\n",
       "</style>\n",
       "<table border=\"1\" class=\"dataframe\">\n",
       "  <thead>\n",
       "    <tr style=\"text-align: right;\">\n",
       "      <th></th>\n",
       "      <th>id</th>\n",
       "      <th>lc_location</th>\n",
       "      <th>rc_location</th>\n",
       "    </tr>\n",
       "  </thead>\n",
       "  <tbody>\n",
       "    <tr>\n",
       "      <td>0</td>\n",
       "      <td>m54071_180125_192928/68944332/ccs</td>\n",
       "      <td>3155</td>\n",
       "      <td>3248</td>\n",
       "    </tr>\n",
       "    <tr>\n",
       "      <td>1</td>\n",
       "      <td>m54071_180125_192928/27198326/ccs</td>\n",
       "      <td>2076</td>\n",
       "      <td>2173</td>\n",
       "    </tr>\n",
       "    <tr>\n",
       "      <td>2</td>\n",
       "      <td>m54071_180125_192928/53084800/ccs</td>\n",
       "      <td>1288</td>\n",
       "      <td>1384</td>\n",
       "    </tr>\n",
       "    <tr>\n",
       "      <td>3</td>\n",
       "      <td>m54071_180125_192928/19006209/ccs</td>\n",
       "      <td>2116</td>\n",
       "      <td>2212</td>\n",
       "    </tr>\n",
       "    <tr>\n",
       "      <td>4</td>\n",
       "      <td>m54071_180125_192928/28902147/ccs</td>\n",
       "      <td>5326</td>\n",
       "      <td>5421</td>\n",
       "    </tr>\n",
       "  </tbody>\n",
       "</table>\n",
       "</div>"
      ],
      "text/plain": [
       "                                  id  lc_location  rc_location\n",
       "0  m54071_180125_192928/68944332/ccs         3155         3248\n",
       "1  m54071_180125_192928/27198326/ccs         2076         2173\n",
       "2  m54071_180125_192928/53084800/ccs         1288         1384\n",
       "3  m54071_180125_192928/19006209/ccs         2116         2212\n",
       "4  m54071_180125_192928/28902147/ccs         5326         5421"
      ]
     },
     "execution_count": 13,
     "metadata": {},
     "output_type": "execute_result"
    }
   ],
   "source": [
    "#YOUR CODE HERE\n",
    "\n",
    "g = df_event2.groupby('query')\n",
    "df_left = g.get_group('left_coordinate')\n",
    "df_right = g.get_group('right_coordinate')\n",
    "merged_event2 = df_left.merge(df_right, how ='inner', on ='id')\n",
    "merged_event2 = merged_event2.drop(columns=['query_x', 'strand_x','query_y', 'strand_y'])\n",
    "merged_event2 = merged_event2.rename(columns={'location_x': 'lc_location', 'location_y': 'rc_location'}) \n",
    "\n",
    "#Uncomment when finished with section\n",
    "merged_event2.head()"
   ]
  },
  {
   "cell_type": "markdown",
   "metadata": {},
   "source": [
    "### 3.9 Calculating distance\n",
    "### 2 Points\n",
    "\n",
    "\n",
    "We want to calculate the distance between the right coordinate and left coordinate.\n",
    "\n",
    "* Create a new column for the merged_event2 dataframe called distance\n",
    "* Populate distance with the following formula: int((rc_location - lc_location)/3)\n",
    "* Remove any rows where distance is <= 0\n",
    "* Remove any rows where 'id' has duplicates and keep the first occurrence \n",
    "* Get rid of the lc_location and rc_location columns, all you need is id and distance for the next step"
   ]
  },
  {
   "cell_type": "code",
   "execution_count": 14,
   "metadata": {},
   "outputs": [
    {
     "data": {
      "text/html": [
       "<div>\n",
       "<style scoped>\n",
       "    .dataframe tbody tr th:only-of-type {\n",
       "        vertical-align: middle;\n",
       "    }\n",
       "\n",
       "    .dataframe tbody tr th {\n",
       "        vertical-align: top;\n",
       "    }\n",
       "\n",
       "    .dataframe thead th {\n",
       "        text-align: right;\n",
       "    }\n",
       "</style>\n",
       "<table border=\"1\" class=\"dataframe\">\n",
       "  <thead>\n",
       "    <tr style=\"text-align: right;\">\n",
       "      <th></th>\n",
       "      <th>id</th>\n",
       "      <th>lc_location</th>\n",
       "      <th>rc_location</th>\n",
       "      <th>distance</th>\n",
       "    </tr>\n",
       "  </thead>\n",
       "  <tbody>\n",
       "    <tr>\n",
       "      <td>0</td>\n",
       "      <td>m54071_180125_192928/68944332/ccs</td>\n",
       "      <td>3155</td>\n",
       "      <td>3248</td>\n",
       "      <td>31</td>\n",
       "    </tr>\n",
       "    <tr>\n",
       "      <td>1</td>\n",
       "      <td>m54071_180125_192928/27198326/ccs</td>\n",
       "      <td>2076</td>\n",
       "      <td>2173</td>\n",
       "      <td>32</td>\n",
       "    </tr>\n",
       "    <tr>\n",
       "      <td>2</td>\n",
       "      <td>m54071_180125_192928/53084800/ccs</td>\n",
       "      <td>1288</td>\n",
       "      <td>1384</td>\n",
       "      <td>32</td>\n",
       "    </tr>\n",
       "    <tr>\n",
       "      <td>3</td>\n",
       "      <td>m54071_180125_192928/19006209/ccs</td>\n",
       "      <td>2116</td>\n",
       "      <td>2212</td>\n",
       "      <td>32</td>\n",
       "    </tr>\n",
       "    <tr>\n",
       "      <td>4</td>\n",
       "      <td>m54071_180125_192928/28902147/ccs</td>\n",
       "      <td>5326</td>\n",
       "      <td>5421</td>\n",
       "      <td>31</td>\n",
       "    </tr>\n",
       "  </tbody>\n",
       "</table>\n",
       "</div>"
      ],
      "text/plain": [
       "                                  id  lc_location  rc_location  distance\n",
       "0  m54071_180125_192928/68944332/ccs         3155         3248        31\n",
       "1  m54071_180125_192928/27198326/ccs         2076         2173        32\n",
       "2  m54071_180125_192928/53084800/ccs         1288         1384        32\n",
       "3  m54071_180125_192928/19006209/ccs         2116         2212        32\n",
       "4  m54071_180125_192928/28902147/ccs         5326         5421        31"
      ]
     },
     "execution_count": 14,
     "metadata": {},
     "output_type": "execute_result"
    }
   ],
   "source": [
    "#YOUR CODE HERE\n",
    "merged_event2['distance'] = ((merged_event2.rc_location - merged_event2.lc_location)/3).astype(int)\n",
    "merged_event2 = merged_event2[merged_event2.distance > 0]\n",
    "merged_event2 = merged_event2.drop_duplicates(subset=['id'], keep='first')\n",
    "#Uncomment when finished with section\n",
    "merged_event2.head(5)"
   ]
  },
  {
   "cell_type": "code",
   "execution_count": 15,
   "metadata": {},
   "outputs": [
    {
     "data": {
      "text/html": [
       "<div>\n",
       "<style scoped>\n",
       "    .dataframe tbody tr th:only-of-type {\n",
       "        vertical-align: middle;\n",
       "    }\n",
       "\n",
       "    .dataframe tbody tr th {\n",
       "        vertical-align: top;\n",
       "    }\n",
       "\n",
       "    .dataframe thead th {\n",
       "        text-align: right;\n",
       "    }\n",
       "</style>\n",
       "<table border=\"1\" class=\"dataframe\">\n",
       "  <thead>\n",
       "    <tr style=\"text-align: right;\">\n",
       "      <th></th>\n",
       "      <th>id</th>\n",
       "      <th>distance</th>\n",
       "    </tr>\n",
       "  </thead>\n",
       "  <tbody>\n",
       "    <tr>\n",
       "      <td>0</td>\n",
       "      <td>m54071_180125_192928/68944332/ccs</td>\n",
       "      <td>31</td>\n",
       "    </tr>\n",
       "    <tr>\n",
       "      <td>1</td>\n",
       "      <td>m54071_180125_192928/27198326/ccs</td>\n",
       "      <td>32</td>\n",
       "    </tr>\n",
       "    <tr>\n",
       "      <td>2</td>\n",
       "      <td>m54071_180125_192928/53084800/ccs</td>\n",
       "      <td>32</td>\n",
       "    </tr>\n",
       "    <tr>\n",
       "      <td>3</td>\n",
       "      <td>m54071_180125_192928/19006209/ccs</td>\n",
       "      <td>32</td>\n",
       "    </tr>\n",
       "    <tr>\n",
       "      <td>4</td>\n",
       "      <td>m54071_180125_192928/28902147/ccs</td>\n",
       "      <td>31</td>\n",
       "    </tr>\n",
       "  </tbody>\n",
       "</table>\n",
       "</div>"
      ],
      "text/plain": [
       "                                  id  distance\n",
       "0  m54071_180125_192928/68944332/ccs        31\n",
       "1  m54071_180125_192928/27198326/ccs        32\n",
       "2  m54071_180125_192928/53084800/ccs        32\n",
       "3  m54071_180125_192928/19006209/ccs        32\n",
       "4  m54071_180125_192928/28902147/ccs        31"
      ]
     },
     "execution_count": 15,
     "metadata": {},
     "output_type": "execute_result"
    }
   ],
   "source": [
    "merged_event2 = merged_event2.drop(columns = ['lc_location', 'rc_location'])\n",
    "merged_event2.head(5)"
   ]
  },
  {
   "cell_type": "markdown",
   "metadata": {},
   "source": [
    "### 3.10 Merging with df_event1\n",
    "### 2 Points\n",
    "\n",
    "\n",
    "Remember df_event1? It looks like we can merge the merged_event2 with df_event1.\n",
    "\n",
    "* create a final_df dataframe by merging df_event1 with merged_event2 inner join on 'id'\n",
    "* subset the final_df and keep only the base and distance columns\n"
   ]
  },
  {
   "cell_type": "code",
   "execution_count": 16,
   "metadata": {},
   "outputs": [
    {
     "data": {
      "text/plain": [
       "count     693\n",
       "unique      2\n",
       "top         C\n",
       "freq      465\n",
       "Name: base, dtype: object"
      ]
     },
     "execution_count": 16,
     "metadata": {},
     "output_type": "execute_result"
    }
   ],
   "source": [
    "#YOUR CODE HERE\n",
    "final_df = df_event1.merge(merged_event2, how ='inner', on ='id')\n",
    "#final_df = final_df[['base', 'distance']] - extra rows removed previously\n",
    "#Uncomment when finished with section\n",
    "final_df.base.describe()"
   ]
  },
  {
   "cell_type": "markdown",
   "metadata": {},
   "source": [
    "### 3.11 Stacked Histogram\n",
    "### 3 Points\n",
    "\n",
    "Using plotly offline, create a stacked histogram for the data in final_df\n",
    "\n",
    "where on the x axis you have the distance, on the y axis you have the number of counts, and base types are represented with different colors.\n",
    "\n",
    "* The title of your chart should be: Stacked\n",
    "* Your x axis label should be : Repeats\n",
    "* Your y axis label should be: Number of reads"
   ]
  },
  {
   "cell_type": "code",
   "execution_count": 17,
   "metadata": {},
   "outputs": [
    {
     "data": {
      "application/vnd.plotly.v1+json": {
       "config": {
        "linkText": "Export to plot.ly",
        "plotlyServerURL": "https://plot.ly",
        "showLink": true
       },
       "data": [
        {
         "histfunc": "count",
         "histnorm": "",
         "marker": {
          "color": "rgba(255, 153, 51, 1.0)",
          "line": {
           "color": "#4D5663",
           "width": 1.3
          }
         },
         "name": "C",
         "opacity": 0.8,
         "orientation": "v",
         "type": "histogram",
         "x": [
          31,
          31,
          31,
          31,
          31,
          30,
          31,
          31,
          79,
          32,
          31,
          31,
          31,
          31,
          33,
          31,
          31,
          30,
          31,
          31,
          30,
          31,
          31,
          31,
          30,
          31,
          31,
          31,
          31,
          80,
          31,
          31,
          31,
          30,
          31,
          31,
          31,
          77,
          31,
          31,
          31,
          76,
          31,
          31,
          31,
          31,
          31,
          31,
          31,
          31,
          31,
          30,
          86,
          31,
          31,
          31,
          31,
          31,
          32,
          32,
          30,
          31,
          30,
          31,
          31,
          31,
          30,
          31,
          31,
          31,
          30,
          35,
          31,
          33,
          30,
          32,
          31,
          31,
          31,
          31,
          32,
          31,
          31,
          31,
          31,
          30,
          80,
          31,
          31,
          31,
          31,
          31,
          31,
          33,
          31,
          31,
          31,
          31,
          30,
          31,
          31,
          31,
          31,
          31,
          31,
          79,
          32,
          79,
          31,
          31,
          31,
          30,
          31,
          31,
          31,
          30,
          31,
          30,
          31,
          32,
          32,
          30,
          31,
          31,
          30,
          31,
          31,
          31,
          31,
          31,
          31,
          33,
          30,
          32,
          31,
          30,
          31,
          31,
          31,
          30,
          32,
          31,
          80,
          31,
          31,
          31,
          30,
          33,
          31,
          31,
          31,
          30,
          80,
          30,
          31,
          31,
          31,
          31,
          31,
          31,
          31,
          32,
          32,
          31,
          30,
          31,
          31,
          83,
          31,
          32,
          31,
          31,
          30,
          31,
          31,
          31,
          31,
          30,
          80,
          29,
          30,
          30,
          30,
          30,
          30,
          79,
          30,
          29,
          30,
          29,
          30,
          32,
          30,
          30,
          30,
          30,
          30,
          31,
          30,
          31,
          30,
          30,
          29,
          30,
          81,
          30,
          30,
          30,
          32,
          29,
          31,
          32,
          30,
          30,
          31,
          30,
          29,
          29,
          30,
          29,
          30,
          30,
          31,
          30,
          31,
          31,
          32,
          30,
          31,
          31,
          30,
          29,
          29,
          100,
          31,
          29,
          29,
          30,
          29,
          31,
          31,
          31,
          30,
          32,
          31,
          31,
          31,
          31,
          31,
          80,
          32,
          31,
          31,
          30,
          79,
          31,
          31,
          31,
          31,
          31,
          31,
          32,
          31,
          31,
          31,
          31,
          31,
          30,
          83,
          30,
          31,
          32,
          31,
          32,
          31,
          32,
          30,
          80,
          31,
          31,
          31,
          33,
          35,
          31,
          31,
          31,
          31,
          33,
          31,
          31,
          31,
          32,
          31,
          31,
          31,
          31,
          31,
          30,
          30,
          32,
          31,
          30,
          31,
          31,
          31,
          31,
          31,
          32,
          31,
          31,
          32,
          30,
          30,
          30,
          31,
          31,
          31,
          77,
          31,
          32,
          30,
          31,
          31,
          31,
          30,
          31,
          32,
          30,
          31,
          31,
          31,
          31,
          31,
          31,
          32,
          95,
          31,
          31,
          32,
          30,
          31,
          30,
          30,
          31,
          31,
          31,
          31,
          31,
          31,
          31,
          31,
          31,
          81,
          30,
          32,
          31,
          31,
          31,
          31,
          31,
          31,
          32,
          33,
          31,
          31,
          30,
          31,
          31,
          30,
          30,
          30,
          31,
          32,
          31,
          31,
          31,
          31,
          31,
          31,
          31,
          31,
          79,
          82,
          82,
          31,
          31,
          31,
          31,
          82,
          31,
          31,
          30,
          31,
          32,
          31,
          30,
          31,
          31,
          30,
          31,
          31,
          31,
          31,
          31,
          31,
          31,
          31,
          31,
          31,
          31,
          31,
          31,
          31,
          32,
          30,
          31,
          31,
          31,
          31,
          32,
          30,
          30,
          31,
          31,
          31,
          31,
          30,
          31,
          30,
          79,
          30,
          31,
          31,
          31,
          31,
          31,
          31,
          31,
          31,
          31,
          31,
          31,
          31,
          31,
          31,
          30,
          32,
          30,
          31,
          31,
          32,
          31,
          31,
          31,
          31,
          31,
          31,
          77,
          31,
          29,
          31,
          31,
          30,
          31,
          31,
          null,
          null,
          null,
          null,
          null,
          null,
          null,
          null,
          null,
          null,
          null,
          null,
          null,
          null,
          null,
          null,
          null,
          null,
          null,
          null,
          null,
          null,
          null,
          null,
          null,
          null,
          null,
          null,
          null,
          null,
          null,
          null,
          null,
          null,
          null,
          null,
          null,
          null,
          null,
          null,
          null,
          null,
          null,
          null,
          null,
          null,
          null,
          null,
          null,
          null,
          null,
          null,
          null,
          null,
          null,
          null,
          null,
          null,
          null,
          null,
          null,
          null,
          null,
          null,
          null,
          null,
          null,
          null,
          null,
          null,
          null,
          null,
          null,
          null,
          null,
          null,
          null,
          null,
          null,
          null,
          null,
          null,
          null,
          null,
          null,
          null,
          null,
          null,
          null,
          null,
          null,
          null,
          null,
          null,
          null,
          null,
          null,
          null,
          null,
          null,
          null,
          null,
          null,
          null,
          null,
          null,
          null,
          null,
          null,
          null,
          null,
          null,
          null,
          null,
          null,
          null,
          null,
          null,
          null,
          null,
          null,
          null,
          null,
          null,
          null,
          null,
          null,
          null,
          null,
          null,
          null,
          null,
          null,
          null,
          null,
          null,
          null,
          null,
          null,
          null,
          null,
          null,
          null,
          null,
          null,
          null,
          null,
          null,
          null,
          null,
          null,
          null,
          null,
          null,
          null,
          null,
          null,
          null,
          null,
          null,
          null,
          null,
          null,
          null,
          null,
          null,
          null,
          null,
          null,
          null,
          null,
          null,
          null,
          null,
          null,
          null,
          null,
          null,
          null,
          null,
          null,
          null,
          null,
          null,
          null,
          null,
          null,
          null,
          null,
          null,
          null,
          null,
          null,
          null,
          null,
          null,
          null,
          null,
          null,
          null,
          null,
          null,
          null,
          null,
          null,
          null,
          null,
          null,
          null,
          null,
          null,
          null,
          null,
          null,
          null,
          null,
          null,
          null,
          null,
          null,
          null,
          null,
          null,
          null,
          null,
          null,
          null,
          null
         ]
        },
        {
         "histfunc": "count",
         "histnorm": "",
         "marker": {
          "color": "rgba(55, 128, 191, 1.0)",
          "line": {
           "color": "#4D5663",
           "width": 1.3
          }
         },
         "name": "G",
         "opacity": 0.8,
         "orientation": "v",
         "type": "histogram",
         "x": [
          null,
          null,
          null,
          null,
          null,
          null,
          null,
          null,
          null,
          null,
          null,
          null,
          null,
          null,
          null,
          null,
          null,
          null,
          null,
          null,
          null,
          null,
          null,
          null,
          null,
          null,
          null,
          null,
          null,
          null,
          null,
          null,
          null,
          null,
          null,
          null,
          null,
          null,
          null,
          null,
          null,
          null,
          null,
          null,
          null,
          null,
          null,
          null,
          null,
          null,
          null,
          null,
          null,
          null,
          null,
          null,
          null,
          null,
          null,
          null,
          null,
          null,
          null,
          null,
          null,
          null,
          null,
          null,
          null,
          null,
          null,
          null,
          null,
          null,
          null,
          null,
          null,
          null,
          null,
          null,
          null,
          null,
          null,
          null,
          null,
          null,
          null,
          null,
          null,
          null,
          null,
          null,
          null,
          null,
          null,
          null,
          null,
          null,
          null,
          null,
          null,
          null,
          null,
          null,
          null,
          null,
          null,
          null,
          null,
          null,
          null,
          null,
          null,
          null,
          null,
          null,
          null,
          null,
          null,
          null,
          null,
          null,
          null,
          null,
          null,
          null,
          null,
          null,
          null,
          null,
          null,
          null,
          null,
          null,
          null,
          null,
          null,
          null,
          null,
          null,
          null,
          null,
          null,
          null,
          null,
          null,
          null,
          null,
          null,
          null,
          null,
          null,
          null,
          null,
          null,
          null,
          null,
          null,
          null,
          null,
          null,
          null,
          null,
          null,
          null,
          null,
          null,
          null,
          null,
          null,
          null,
          null,
          null,
          null,
          null,
          null,
          null,
          null,
          null,
          null,
          null,
          null,
          null,
          null,
          null,
          null,
          null,
          null,
          null,
          null,
          null,
          null,
          null,
          null,
          null,
          null,
          null,
          null,
          null,
          null,
          null,
          null,
          null,
          null,
          null,
          null,
          null,
          null,
          null,
          null,
          null,
          null,
          null,
          null,
          null,
          null,
          null,
          null,
          null,
          null,
          null,
          null,
          null,
          null,
          null,
          null,
          null,
          null,
          null,
          null,
          null,
          null,
          null,
          null,
          null,
          null,
          null,
          null,
          null,
          null,
          null,
          null,
          null,
          null,
          null,
          null,
          null,
          null,
          null,
          null,
          null,
          null,
          null,
          null,
          null,
          null,
          null,
          null,
          null,
          null,
          null,
          null,
          null,
          null,
          null,
          null,
          null,
          null,
          null,
          null,
          null,
          null,
          null,
          null,
          null,
          null,
          null,
          null,
          null,
          null,
          null,
          null,
          null,
          null,
          null,
          null,
          null,
          null,
          null,
          null,
          null,
          null,
          null,
          null,
          null,
          null,
          null,
          null,
          null,
          null,
          null,
          null,
          null,
          null,
          null,
          null,
          null,
          null,
          null,
          null,
          null,
          null,
          null,
          null,
          null,
          null,
          null,
          null,
          null,
          null,
          null,
          null,
          null,
          null,
          null,
          null,
          null,
          null,
          null,
          null,
          null,
          null,
          null,
          null,
          null,
          null,
          null,
          null,
          null,
          null,
          null,
          null,
          null,
          null,
          null,
          null,
          null,
          null,
          null,
          null,
          null,
          null,
          null,
          null,
          null,
          null,
          null,
          null,
          null,
          null,
          null,
          null,
          null,
          null,
          null,
          null,
          null,
          null,
          null,
          null,
          null,
          null,
          null,
          null,
          null,
          null,
          null,
          null,
          null,
          null,
          null,
          null,
          null,
          null,
          null,
          null,
          null,
          null,
          null,
          null,
          null,
          null,
          null,
          null,
          null,
          null,
          null,
          null,
          null,
          null,
          null,
          null,
          null,
          null,
          null,
          null,
          null,
          null,
          null,
          null,
          null,
          null,
          null,
          null,
          null,
          null,
          null,
          null,
          null,
          null,
          null,
          null,
          null,
          null,
          null,
          null,
          null,
          null,
          null,
          null,
          null,
          null,
          null,
          null,
          null,
          null,
          null,
          null,
          null,
          null,
          null,
          null,
          null,
          null,
          null,
          null,
          null,
          null,
          null,
          null,
          null,
          null,
          null,
          null,
          null,
          null,
          null,
          null,
          null,
          null,
          null,
          null,
          null,
          null,
          null,
          80,
          79,
          80,
          78,
          82,
          79,
          81,
          82,
          77,
          79,
          80,
          78,
          31,
          78,
          74,
          80,
          79,
          77,
          80,
          80,
          77,
          77,
          80,
          76,
          77,
          78,
          77,
          77,
          81,
          80,
          80,
          79,
          78,
          80,
          75,
          79,
          77,
          79,
          77,
          76,
          81,
          79,
          74,
          78,
          76,
          80,
          79,
          81,
          77,
          81,
          31,
          68,
          80,
          76,
          81,
          80,
          79,
          79,
          80,
          79,
          80,
          81,
          80,
          80,
          83,
          80,
          80,
          78,
          78,
          79,
          78,
          83,
          82,
          77,
          81,
          79,
          78,
          79,
          80,
          80,
          79,
          79,
          79,
          79,
          80,
          79,
          82,
          80,
          80,
          80,
          79,
          79,
          80,
          80,
          80,
          78,
          80,
          77,
          78,
          79,
          31,
          81,
          31,
          78,
          79,
          77,
          80,
          31,
          79,
          78,
          78,
          76,
          76,
          76,
          77,
          76,
          80,
          80,
          81,
          58,
          77,
          77,
          78,
          80,
          78,
          79,
          82,
          71,
          77,
          81,
          82,
          80,
          76,
          84,
          80,
          79,
          31,
          81,
          74,
          80,
          80,
          77,
          79,
          78,
          82,
          78,
          80,
          79,
          78,
          78,
          40,
          78,
          80,
          76,
          77,
          78,
          77,
          81,
          80,
          81,
          31,
          81,
          79,
          177,
          80,
          79,
          79,
          79,
          78,
          46,
          80,
          79,
          78,
          76,
          78,
          79,
          31,
          77,
          81,
          75,
          30,
          82,
          82,
          80,
          77,
          78,
          83,
          80,
          80,
          79,
          82,
          80,
          81,
          78,
          76,
          77,
          31,
          80,
          84,
          77,
          78,
          31,
          81,
          77,
          76,
          81,
          80,
          83,
          32,
          79,
          81,
          60,
          83,
          91,
          76,
          80,
          81,
          76,
          29,
          79,
          85,
          76,
          81,
          80,
          79,
          78,
          78,
          79
         ]
        }
       ],
       "layout": {
        "barmode": "stack",
        "legend": {
         "bgcolor": "#F5F6F9",
         "font": {
          "color": "#4D5663"
         }
        },
        "paper_bgcolor": "#F5F6F9",
        "plot_bgcolor": "#F5F6F9",
        "template": {
         "data": {
          "bar": [
           {
            "error_x": {
             "color": "#2a3f5f"
            },
            "error_y": {
             "color": "#2a3f5f"
            },
            "marker": {
             "line": {
              "color": "#E5ECF6",
              "width": 0.5
             }
            },
            "type": "bar"
           }
          ],
          "barpolar": [
           {
            "marker": {
             "line": {
              "color": "#E5ECF6",
              "width": 0.5
             }
            },
            "type": "barpolar"
           }
          ],
          "carpet": [
           {
            "aaxis": {
             "endlinecolor": "#2a3f5f",
             "gridcolor": "white",
             "linecolor": "white",
             "minorgridcolor": "white",
             "startlinecolor": "#2a3f5f"
            },
            "baxis": {
             "endlinecolor": "#2a3f5f",
             "gridcolor": "white",
             "linecolor": "white",
             "minorgridcolor": "white",
             "startlinecolor": "#2a3f5f"
            },
            "type": "carpet"
           }
          ],
          "choropleth": [
           {
            "colorbar": {
             "outlinewidth": 0,
             "ticks": ""
            },
            "type": "choropleth"
           }
          ],
          "contour": [
           {
            "colorbar": {
             "outlinewidth": 0,
             "ticks": ""
            },
            "colorscale": [
             [
              0,
              "#0d0887"
             ],
             [
              0.1111111111111111,
              "#46039f"
             ],
             [
              0.2222222222222222,
              "#7201a8"
             ],
             [
              0.3333333333333333,
              "#9c179e"
             ],
             [
              0.4444444444444444,
              "#bd3786"
             ],
             [
              0.5555555555555556,
              "#d8576b"
             ],
             [
              0.6666666666666666,
              "#ed7953"
             ],
             [
              0.7777777777777778,
              "#fb9f3a"
             ],
             [
              0.8888888888888888,
              "#fdca26"
             ],
             [
              1,
              "#f0f921"
             ]
            ],
            "type": "contour"
           }
          ],
          "contourcarpet": [
           {
            "colorbar": {
             "outlinewidth": 0,
             "ticks": ""
            },
            "type": "contourcarpet"
           }
          ],
          "heatmap": [
           {
            "colorbar": {
             "outlinewidth": 0,
             "ticks": ""
            },
            "colorscale": [
             [
              0,
              "#0d0887"
             ],
             [
              0.1111111111111111,
              "#46039f"
             ],
             [
              0.2222222222222222,
              "#7201a8"
             ],
             [
              0.3333333333333333,
              "#9c179e"
             ],
             [
              0.4444444444444444,
              "#bd3786"
             ],
             [
              0.5555555555555556,
              "#d8576b"
             ],
             [
              0.6666666666666666,
              "#ed7953"
             ],
             [
              0.7777777777777778,
              "#fb9f3a"
             ],
             [
              0.8888888888888888,
              "#fdca26"
             ],
             [
              1,
              "#f0f921"
             ]
            ],
            "type": "heatmap"
           }
          ],
          "heatmapgl": [
           {
            "colorbar": {
             "outlinewidth": 0,
             "ticks": ""
            },
            "colorscale": [
             [
              0,
              "#0d0887"
             ],
             [
              0.1111111111111111,
              "#46039f"
             ],
             [
              0.2222222222222222,
              "#7201a8"
             ],
             [
              0.3333333333333333,
              "#9c179e"
             ],
             [
              0.4444444444444444,
              "#bd3786"
             ],
             [
              0.5555555555555556,
              "#d8576b"
             ],
             [
              0.6666666666666666,
              "#ed7953"
             ],
             [
              0.7777777777777778,
              "#fb9f3a"
             ],
             [
              0.8888888888888888,
              "#fdca26"
             ],
             [
              1,
              "#f0f921"
             ]
            ],
            "type": "heatmapgl"
           }
          ],
          "histogram": [
           {
            "marker": {
             "colorbar": {
              "outlinewidth": 0,
              "ticks": ""
             }
            },
            "type": "histogram"
           }
          ],
          "histogram2d": [
           {
            "colorbar": {
             "outlinewidth": 0,
             "ticks": ""
            },
            "colorscale": [
             [
              0,
              "#0d0887"
             ],
             [
              0.1111111111111111,
              "#46039f"
             ],
             [
              0.2222222222222222,
              "#7201a8"
             ],
             [
              0.3333333333333333,
              "#9c179e"
             ],
             [
              0.4444444444444444,
              "#bd3786"
             ],
             [
              0.5555555555555556,
              "#d8576b"
             ],
             [
              0.6666666666666666,
              "#ed7953"
             ],
             [
              0.7777777777777778,
              "#fb9f3a"
             ],
             [
              0.8888888888888888,
              "#fdca26"
             ],
             [
              1,
              "#f0f921"
             ]
            ],
            "type": "histogram2d"
           }
          ],
          "histogram2dcontour": [
           {
            "colorbar": {
             "outlinewidth": 0,
             "ticks": ""
            },
            "colorscale": [
             [
              0,
              "#0d0887"
             ],
             [
              0.1111111111111111,
              "#46039f"
             ],
             [
              0.2222222222222222,
              "#7201a8"
             ],
             [
              0.3333333333333333,
              "#9c179e"
             ],
             [
              0.4444444444444444,
              "#bd3786"
             ],
             [
              0.5555555555555556,
              "#d8576b"
             ],
             [
              0.6666666666666666,
              "#ed7953"
             ],
             [
              0.7777777777777778,
              "#fb9f3a"
             ],
             [
              0.8888888888888888,
              "#fdca26"
             ],
             [
              1,
              "#f0f921"
             ]
            ],
            "type": "histogram2dcontour"
           }
          ],
          "mesh3d": [
           {
            "colorbar": {
             "outlinewidth": 0,
             "ticks": ""
            },
            "type": "mesh3d"
           }
          ],
          "parcoords": [
           {
            "line": {
             "colorbar": {
              "outlinewidth": 0,
              "ticks": ""
             }
            },
            "type": "parcoords"
           }
          ],
          "pie": [
           {
            "automargin": true,
            "type": "pie"
           }
          ],
          "scatter": [
           {
            "marker": {
             "colorbar": {
              "outlinewidth": 0,
              "ticks": ""
             }
            },
            "type": "scatter"
           }
          ],
          "scatter3d": [
           {
            "line": {
             "colorbar": {
              "outlinewidth": 0,
              "ticks": ""
             }
            },
            "marker": {
             "colorbar": {
              "outlinewidth": 0,
              "ticks": ""
             }
            },
            "type": "scatter3d"
           }
          ],
          "scattercarpet": [
           {
            "marker": {
             "colorbar": {
              "outlinewidth": 0,
              "ticks": ""
             }
            },
            "type": "scattercarpet"
           }
          ],
          "scattergeo": [
           {
            "marker": {
             "colorbar": {
              "outlinewidth": 0,
              "ticks": ""
             }
            },
            "type": "scattergeo"
           }
          ],
          "scattergl": [
           {
            "marker": {
             "colorbar": {
              "outlinewidth": 0,
              "ticks": ""
             }
            },
            "type": "scattergl"
           }
          ],
          "scattermapbox": [
           {
            "marker": {
             "colorbar": {
              "outlinewidth": 0,
              "ticks": ""
             }
            },
            "type": "scattermapbox"
           }
          ],
          "scatterpolar": [
           {
            "marker": {
             "colorbar": {
              "outlinewidth": 0,
              "ticks": ""
             }
            },
            "type": "scatterpolar"
           }
          ],
          "scatterpolargl": [
           {
            "marker": {
             "colorbar": {
              "outlinewidth": 0,
              "ticks": ""
             }
            },
            "type": "scatterpolargl"
           }
          ],
          "scatterternary": [
           {
            "marker": {
             "colorbar": {
              "outlinewidth": 0,
              "ticks": ""
             }
            },
            "type": "scatterternary"
           }
          ],
          "surface": [
           {
            "colorbar": {
             "outlinewidth": 0,
             "ticks": ""
            },
            "colorscale": [
             [
              0,
              "#0d0887"
             ],
             [
              0.1111111111111111,
              "#46039f"
             ],
             [
              0.2222222222222222,
              "#7201a8"
             ],
             [
              0.3333333333333333,
              "#9c179e"
             ],
             [
              0.4444444444444444,
              "#bd3786"
             ],
             [
              0.5555555555555556,
              "#d8576b"
             ],
             [
              0.6666666666666666,
              "#ed7953"
             ],
             [
              0.7777777777777778,
              "#fb9f3a"
             ],
             [
              0.8888888888888888,
              "#fdca26"
             ],
             [
              1,
              "#f0f921"
             ]
            ],
            "type": "surface"
           }
          ],
          "table": [
           {
            "cells": {
             "fill": {
              "color": "#EBF0F8"
             },
             "line": {
              "color": "white"
             }
            },
            "header": {
             "fill": {
              "color": "#C8D4E3"
             },
             "line": {
              "color": "white"
             }
            },
            "type": "table"
           }
          ]
         },
         "layout": {
          "annotationdefaults": {
           "arrowcolor": "#2a3f5f",
           "arrowhead": 0,
           "arrowwidth": 1
          },
          "coloraxis": {
           "colorbar": {
            "outlinewidth": 0,
            "ticks": ""
           }
          },
          "colorscale": {
           "diverging": [
            [
             0,
             "#8e0152"
            ],
            [
             0.1,
             "#c51b7d"
            ],
            [
             0.2,
             "#de77ae"
            ],
            [
             0.3,
             "#f1b6da"
            ],
            [
             0.4,
             "#fde0ef"
            ],
            [
             0.5,
             "#f7f7f7"
            ],
            [
             0.6,
             "#e6f5d0"
            ],
            [
             0.7,
             "#b8e186"
            ],
            [
             0.8,
             "#7fbc41"
            ],
            [
             0.9,
             "#4d9221"
            ],
            [
             1,
             "#276419"
            ]
           ],
           "sequential": [
            [
             0,
             "#0d0887"
            ],
            [
             0.1111111111111111,
             "#46039f"
            ],
            [
             0.2222222222222222,
             "#7201a8"
            ],
            [
             0.3333333333333333,
             "#9c179e"
            ],
            [
             0.4444444444444444,
             "#bd3786"
            ],
            [
             0.5555555555555556,
             "#d8576b"
            ],
            [
             0.6666666666666666,
             "#ed7953"
            ],
            [
             0.7777777777777778,
             "#fb9f3a"
            ],
            [
             0.8888888888888888,
             "#fdca26"
            ],
            [
             1,
             "#f0f921"
            ]
           ],
           "sequentialminus": [
            [
             0,
             "#0d0887"
            ],
            [
             0.1111111111111111,
             "#46039f"
            ],
            [
             0.2222222222222222,
             "#7201a8"
            ],
            [
             0.3333333333333333,
             "#9c179e"
            ],
            [
             0.4444444444444444,
             "#bd3786"
            ],
            [
             0.5555555555555556,
             "#d8576b"
            ],
            [
             0.6666666666666666,
             "#ed7953"
            ],
            [
             0.7777777777777778,
             "#fb9f3a"
            ],
            [
             0.8888888888888888,
             "#fdca26"
            ],
            [
             1,
             "#f0f921"
            ]
           ]
          },
          "colorway": [
           "#636efa",
           "#EF553B",
           "#00cc96",
           "#ab63fa",
           "#FFA15A",
           "#19d3f3",
           "#FF6692",
           "#B6E880",
           "#FF97FF",
           "#FECB52"
          ],
          "font": {
           "color": "#2a3f5f"
          },
          "geo": {
           "bgcolor": "white",
           "lakecolor": "white",
           "landcolor": "#E5ECF6",
           "showlakes": true,
           "showland": true,
           "subunitcolor": "white"
          },
          "hoverlabel": {
           "align": "left"
          },
          "hovermode": "closest",
          "mapbox": {
           "style": "light"
          },
          "paper_bgcolor": "white",
          "plot_bgcolor": "#E5ECF6",
          "polar": {
           "angularaxis": {
            "gridcolor": "white",
            "linecolor": "white",
            "ticks": ""
           },
           "bgcolor": "#E5ECF6",
           "radialaxis": {
            "gridcolor": "white",
            "linecolor": "white",
            "ticks": ""
           }
          },
          "scene": {
           "xaxis": {
            "backgroundcolor": "#E5ECF6",
            "gridcolor": "white",
            "gridwidth": 2,
            "linecolor": "white",
            "showbackground": true,
            "ticks": "",
            "zerolinecolor": "white"
           },
           "yaxis": {
            "backgroundcolor": "#E5ECF6",
            "gridcolor": "white",
            "gridwidth": 2,
            "linecolor": "white",
            "showbackground": true,
            "ticks": "",
            "zerolinecolor": "white"
           },
           "zaxis": {
            "backgroundcolor": "#E5ECF6",
            "gridcolor": "white",
            "gridwidth": 2,
            "linecolor": "white",
            "showbackground": true,
            "ticks": "",
            "zerolinecolor": "white"
           }
          },
          "shapedefaults": {
           "line": {
            "color": "#2a3f5f"
           }
          },
          "ternary": {
           "aaxis": {
            "gridcolor": "white",
            "linecolor": "white",
            "ticks": ""
           },
           "baxis": {
            "gridcolor": "white",
            "linecolor": "white",
            "ticks": ""
           },
           "bgcolor": "#E5ECF6",
           "caxis": {
            "gridcolor": "white",
            "linecolor": "white",
            "ticks": ""
           }
          },
          "title": {
           "x": 0.05
          },
          "xaxis": {
           "automargin": true,
           "gridcolor": "white",
           "linecolor": "white",
           "ticks": "",
           "title": {
            "standoff": 15
           },
           "zerolinecolor": "white",
           "zerolinewidth": 2
          },
          "yaxis": {
           "automargin": true,
           "gridcolor": "white",
           "linecolor": "white",
           "ticks": "",
           "title": {
            "standoff": 15
           },
           "zerolinecolor": "white",
           "zerolinewidth": 2
          }
         }
        },
        "title": {
         "font": {
          "color": "#4D5663"
         },
         "text": "Stacked"
        },
        "xaxis": {
         "gridcolor": "#E1E5ED",
         "showgrid": true,
         "tickfont": {
          "color": "#4D5663"
         },
         "title": {
          "font": {
           "color": "#4D5663"
          },
          "text": "Repeats"
         },
         "zerolinecolor": "#E1E5ED"
        },
        "yaxis": {
         "gridcolor": "#E1E5ED",
         "showgrid": true,
         "tickfont": {
          "color": "#4D5663"
         },
         "title": {
          "font": {
           "color": "#4D5663"
          },
          "text": "Number of reads"
         },
         "zerolinecolor": "#E1E5ED"
        }
       }
      },
      "text/html": [
       "<div>\n",
       "        \n",
       "        \n",
       "            <div id=\"dc874501-faa1-4f69-a6b4-704f29364206\" class=\"plotly-graph-div\" style=\"height:525px; width:100%;\"></div>\n",
       "            <script type=\"text/javascript\">\n",
       "                require([\"plotly\"], function(Plotly) {\n",
       "                    window.PLOTLYENV=window.PLOTLYENV || {};\n",
       "                    window.PLOTLYENV.BASE_URL='https://plot.ly';\n",
       "                    \n",
       "                if (document.getElementById(\"dc874501-faa1-4f69-a6b4-704f29364206\")) {\n",
       "                    Plotly.newPlot(\n",
       "                        'dc874501-faa1-4f69-a6b4-704f29364206',\n",
       "                        [{\"histfunc\": \"count\", \"histnorm\": \"\", \"marker\": {\"color\": \"rgba(255, 153, 51, 1.0)\", \"line\": {\"color\": \"#4D5663\", \"width\": 1.3}}, \"name\": \"C\", \"opacity\": 0.8, \"orientation\": \"v\", \"type\": \"histogram\", \"x\": [31.0, 31.0, 31.0, 31.0, 31.0, 30.0, 31.0, 31.0, 79.0, 32.0, 31.0, 31.0, 31.0, 31.0, 33.0, 31.0, 31.0, 30.0, 31.0, 31.0, 30.0, 31.0, 31.0, 31.0, 30.0, 31.0, 31.0, 31.0, 31.0, 80.0, 31.0, 31.0, 31.0, 30.0, 31.0, 31.0, 31.0, 77.0, 31.0, 31.0, 31.0, 76.0, 31.0, 31.0, 31.0, 31.0, 31.0, 31.0, 31.0, 31.0, 31.0, 30.0, 86.0, 31.0, 31.0, 31.0, 31.0, 31.0, 32.0, 32.0, 30.0, 31.0, 30.0, 31.0, 31.0, 31.0, 30.0, 31.0, 31.0, 31.0, 30.0, 35.0, 31.0, 33.0, 30.0, 32.0, 31.0, 31.0, 31.0, 31.0, 32.0, 31.0, 31.0, 31.0, 31.0, 30.0, 80.0, 31.0, 31.0, 31.0, 31.0, 31.0, 31.0, 33.0, 31.0, 31.0, 31.0, 31.0, 30.0, 31.0, 31.0, 31.0, 31.0, 31.0, 31.0, 79.0, 32.0, 79.0, 31.0, 31.0, 31.0, 30.0, 31.0, 31.0, 31.0, 30.0, 31.0, 30.0, 31.0, 32.0, 32.0, 30.0, 31.0, 31.0, 30.0, 31.0, 31.0, 31.0, 31.0, 31.0, 31.0, 33.0, 30.0, 32.0, 31.0, 30.0, 31.0, 31.0, 31.0, 30.0, 32.0, 31.0, 80.0, 31.0, 31.0, 31.0, 30.0, 33.0, 31.0, 31.0, 31.0, 30.0, 80.0, 30.0, 31.0, 31.0, 31.0, 31.0, 31.0, 31.0, 31.0, 32.0, 32.0, 31.0, 30.0, 31.0, 31.0, 83.0, 31.0, 32.0, 31.0, 31.0, 30.0, 31.0, 31.0, 31.0, 31.0, 30.0, 80.0, 29.0, 30.0, 30.0, 30.0, 30.0, 30.0, 79.0, 30.0, 29.0, 30.0, 29.0, 30.0, 32.0, 30.0, 30.0, 30.0, 30.0, 30.0, 31.0, 30.0, 31.0, 30.0, 30.0, 29.0, 30.0, 81.0, 30.0, 30.0, 30.0, 32.0, 29.0, 31.0, 32.0, 30.0, 30.0, 31.0, 30.0, 29.0, 29.0, 30.0, 29.0, 30.0, 30.0, 31.0, 30.0, 31.0, 31.0, 32.0, 30.0, 31.0, 31.0, 30.0, 29.0, 29.0, 100.0, 31.0, 29.0, 29.0, 30.0, 29.0, 31.0, 31.0, 31.0, 30.0, 32.0, 31.0, 31.0, 31.0, 31.0, 31.0, 80.0, 32.0, 31.0, 31.0, 30.0, 79.0, 31.0, 31.0, 31.0, 31.0, 31.0, 31.0, 32.0, 31.0, 31.0, 31.0, 31.0, 31.0, 30.0, 83.0, 30.0, 31.0, 32.0, 31.0, 32.0, 31.0, 32.0, 30.0, 80.0, 31.0, 31.0, 31.0, 33.0, 35.0, 31.0, 31.0, 31.0, 31.0, 33.0, 31.0, 31.0, 31.0, 32.0, 31.0, 31.0, 31.0, 31.0, 31.0, 30.0, 30.0, 32.0, 31.0, 30.0, 31.0, 31.0, 31.0, 31.0, 31.0, 32.0, 31.0, 31.0, 32.0, 30.0, 30.0, 30.0, 31.0, 31.0, 31.0, 77.0, 31.0, 32.0, 30.0, 31.0, 31.0, 31.0, 30.0, 31.0, 32.0, 30.0, 31.0, 31.0, 31.0, 31.0, 31.0, 31.0, 32.0, 95.0, 31.0, 31.0, 32.0, 30.0, 31.0, 30.0, 30.0, 31.0, 31.0, 31.0, 31.0, 31.0, 31.0, 31.0, 31.0, 31.0, 81.0, 30.0, 32.0, 31.0, 31.0, 31.0, 31.0, 31.0, 31.0, 32.0, 33.0, 31.0, 31.0, 30.0, 31.0, 31.0, 30.0, 30.0, 30.0, 31.0, 32.0, 31.0, 31.0, 31.0, 31.0, 31.0, 31.0, 31.0, 31.0, 79.0, 82.0, 82.0, 31.0, 31.0, 31.0, 31.0, 82.0, 31.0, 31.0, 30.0, 31.0, 32.0, 31.0, 30.0, 31.0, 31.0, 30.0, 31.0, 31.0, 31.0, 31.0, 31.0, 31.0, 31.0, 31.0, 31.0, 31.0, 31.0, 31.0, 31.0, 31.0, 32.0, 30.0, 31.0, 31.0, 31.0, 31.0, 32.0, 30.0, 30.0, 31.0, 31.0, 31.0, 31.0, 30.0, 31.0, 30.0, 79.0, 30.0, 31.0, 31.0, 31.0, 31.0, 31.0, 31.0, 31.0, 31.0, 31.0, 31.0, 31.0, 31.0, 31.0, 31.0, 30.0, 32.0, 30.0, 31.0, 31.0, 32.0, 31.0, 31.0, 31.0, 31.0, 31.0, 31.0, 77.0, 31.0, 29.0, 31.0, 31.0, 30.0, 31.0, 31.0, null, null, null, null, null, null, null, null, null, null, null, null, null, null, null, null, null, null, null, null, null, null, null, null, null, null, null, null, null, null, null, null, null, null, null, null, null, null, null, null, null, null, null, null, null, null, null, null, null, null, null, null, null, null, null, null, null, null, null, null, null, null, null, null, null, null, null, null, null, null, null, null, null, null, null, null, null, null, null, null, null, null, null, null, null, null, null, null, null, null, null, null, null, null, null, null, null, null, null, null, null, null, null, null, null, null, null, null, null, null, null, null, null, null, null, null, null, null, null, null, null, null, null, null, null, null, null, null, null, null, null, null, null, null, null, null, null, null, null, null, null, null, null, null, null, null, null, null, null, null, null, null, null, null, null, null, null, null, null, null, null, null, null, null, null, null, null, null, null, null, null, null, null, null, null, null, null, null, null, null, null, null, null, null, null, null, null, null, null, null, null, null, null, null, null, null, null, null, null, null, null, null, null, null, null, null, null, null, null, null, null, null, null, null, null, null, null, null, null, null, null, null, null, null, null, null, null, null]}, {\"histfunc\": \"count\", \"histnorm\": \"\", \"marker\": {\"color\": \"rgba(55, 128, 191, 1.0)\", \"line\": {\"color\": \"#4D5663\", \"width\": 1.3}}, \"name\": \"G\", \"opacity\": 0.8, \"orientation\": \"v\", \"type\": \"histogram\", \"x\": [null, null, null, null, null, null, null, null, null, null, null, null, null, null, null, null, null, null, null, null, null, null, null, null, null, null, null, null, null, null, null, null, null, null, null, null, null, null, null, null, null, null, null, null, null, null, null, null, null, null, null, null, null, null, null, null, null, null, null, null, null, null, null, null, null, null, null, null, null, null, null, null, null, null, null, null, null, null, null, null, null, null, null, null, null, null, null, null, null, null, null, null, null, null, null, null, null, null, null, null, null, null, null, null, null, null, null, null, null, null, null, null, null, null, null, null, null, null, null, null, null, null, null, null, null, null, null, null, null, null, null, null, null, null, null, null, null, null, null, null, null, null, null, null, null, null, null, null, null, null, null, null, null, null, null, null, null, null, null, null, null, null, null, null, null, null, null, null, null, null, null, null, null, null, null, null, null, null, null, null, null, null, null, null, null, null, null, null, null, null, null, null, null, null, null, null, null, null, null, null, null, null, null, null, null, null, null, null, null, null, null, null, null, null, null, null, null, null, null, null, null, null, null, null, null, null, null, null, null, null, null, null, null, null, null, null, null, null, null, null, null, null, null, null, null, null, null, null, null, null, null, null, null, null, null, null, null, null, null, null, null, null, null, null, null, null, null, null, null, null, null, null, null, null, null, null, null, null, null, null, null, null, null, null, null, null, null, null, null, null, null, null, null, null, null, null, null, null, null, null, null, null, null, null, null, null, null, null, null, null, null, null, null, null, null, null, null, null, null, null, null, null, null, null, null, null, null, null, null, null, null, null, null, null, null, null, null, null, null, null, null, null, null, null, null, null, null, null, null, null, null, null, null, null, null, null, null, null, null, null, null, null, null, null, null, null, null, null, null, null, null, null, null, null, null, null, null, null, null, null, null, null, null, null, null, null, null, null, null, null, null, null, null, null, null, null, null, null, null, null, null, null, null, null, null, null, null, null, null, null, null, null, null, null, null, null, null, null, null, null, null, null, null, null, null, null, null, null, null, null, null, null, null, null, null, null, null, null, null, null, null, null, null, null, null, null, null, null, null, null, null, null, null, null, null, null, null, null, null, null, null, null, null, null, null, 80.0, 79.0, 80.0, 78.0, 82.0, 79.0, 81.0, 82.0, 77.0, 79.0, 80.0, 78.0, 31.0, 78.0, 74.0, 80.0, 79.0, 77.0, 80.0, 80.0, 77.0, 77.0, 80.0, 76.0, 77.0, 78.0, 77.0, 77.0, 81.0, 80.0, 80.0, 79.0, 78.0, 80.0, 75.0, 79.0, 77.0, 79.0, 77.0, 76.0, 81.0, 79.0, 74.0, 78.0, 76.0, 80.0, 79.0, 81.0, 77.0, 81.0, 31.0, 68.0, 80.0, 76.0, 81.0, 80.0, 79.0, 79.0, 80.0, 79.0, 80.0, 81.0, 80.0, 80.0, 83.0, 80.0, 80.0, 78.0, 78.0, 79.0, 78.0, 83.0, 82.0, 77.0, 81.0, 79.0, 78.0, 79.0, 80.0, 80.0, 79.0, 79.0, 79.0, 79.0, 80.0, 79.0, 82.0, 80.0, 80.0, 80.0, 79.0, 79.0, 80.0, 80.0, 80.0, 78.0, 80.0, 77.0, 78.0, 79.0, 31.0, 81.0, 31.0, 78.0, 79.0, 77.0, 80.0, 31.0, 79.0, 78.0, 78.0, 76.0, 76.0, 76.0, 77.0, 76.0, 80.0, 80.0, 81.0, 58.0, 77.0, 77.0, 78.0, 80.0, 78.0, 79.0, 82.0, 71.0, 77.0, 81.0, 82.0, 80.0, 76.0, 84.0, 80.0, 79.0, 31.0, 81.0, 74.0, 80.0, 80.0, 77.0, 79.0, 78.0, 82.0, 78.0, 80.0, 79.0, 78.0, 78.0, 40.0, 78.0, 80.0, 76.0, 77.0, 78.0, 77.0, 81.0, 80.0, 81.0, 31.0, 81.0, 79.0, 177.0, 80.0, 79.0, 79.0, 79.0, 78.0, 46.0, 80.0, 79.0, 78.0, 76.0, 78.0, 79.0, 31.0, 77.0, 81.0, 75.0, 30.0, 82.0, 82.0, 80.0, 77.0, 78.0, 83.0, 80.0, 80.0, 79.0, 82.0, 80.0, 81.0, 78.0, 76.0, 77.0, 31.0, 80.0, 84.0, 77.0, 78.0, 31.0, 81.0, 77.0, 76.0, 81.0, 80.0, 83.0, 32.0, 79.0, 81.0, 60.0, 83.0, 91.0, 76.0, 80.0, 81.0, 76.0, 29.0, 79.0, 85.0, 76.0, 81.0, 80.0, 79.0, 78.0, 78.0, 79.0]}],\n",
       "                        {\"barmode\": \"stack\", \"legend\": {\"bgcolor\": \"#F5F6F9\", \"font\": {\"color\": \"#4D5663\"}}, \"paper_bgcolor\": \"#F5F6F9\", \"plot_bgcolor\": \"#F5F6F9\", \"template\": {\"data\": {\"bar\": [{\"error_x\": {\"color\": \"#2a3f5f\"}, \"error_y\": {\"color\": \"#2a3f5f\"}, \"marker\": {\"line\": {\"color\": \"#E5ECF6\", \"width\": 0.5}}, \"type\": \"bar\"}], \"barpolar\": [{\"marker\": {\"line\": {\"color\": \"#E5ECF6\", \"width\": 0.5}}, \"type\": \"barpolar\"}], \"carpet\": [{\"aaxis\": {\"endlinecolor\": \"#2a3f5f\", \"gridcolor\": \"white\", \"linecolor\": \"white\", \"minorgridcolor\": \"white\", \"startlinecolor\": \"#2a3f5f\"}, \"baxis\": {\"endlinecolor\": \"#2a3f5f\", \"gridcolor\": \"white\", \"linecolor\": \"white\", \"minorgridcolor\": \"white\", \"startlinecolor\": \"#2a3f5f\"}, \"type\": \"carpet\"}], \"choropleth\": [{\"colorbar\": {\"outlinewidth\": 0, \"ticks\": \"\"}, \"type\": \"choropleth\"}], \"contour\": [{\"colorbar\": {\"outlinewidth\": 0, \"ticks\": \"\"}, \"colorscale\": [[0.0, \"#0d0887\"], [0.1111111111111111, \"#46039f\"], [0.2222222222222222, \"#7201a8\"], [0.3333333333333333, \"#9c179e\"], [0.4444444444444444, \"#bd3786\"], [0.5555555555555556, \"#d8576b\"], [0.6666666666666666, \"#ed7953\"], [0.7777777777777778, \"#fb9f3a\"], [0.8888888888888888, \"#fdca26\"], [1.0, \"#f0f921\"]], \"type\": \"contour\"}], \"contourcarpet\": [{\"colorbar\": {\"outlinewidth\": 0, \"ticks\": \"\"}, \"type\": \"contourcarpet\"}], \"heatmap\": [{\"colorbar\": {\"outlinewidth\": 0, \"ticks\": \"\"}, \"colorscale\": [[0.0, \"#0d0887\"], [0.1111111111111111, \"#46039f\"], [0.2222222222222222, \"#7201a8\"], [0.3333333333333333, \"#9c179e\"], [0.4444444444444444, \"#bd3786\"], [0.5555555555555556, \"#d8576b\"], [0.6666666666666666, \"#ed7953\"], [0.7777777777777778, \"#fb9f3a\"], [0.8888888888888888, \"#fdca26\"], [1.0, \"#f0f921\"]], \"type\": \"heatmap\"}], \"heatmapgl\": [{\"colorbar\": {\"outlinewidth\": 0, \"ticks\": \"\"}, \"colorscale\": [[0.0, \"#0d0887\"], [0.1111111111111111, \"#46039f\"], [0.2222222222222222, \"#7201a8\"], [0.3333333333333333, \"#9c179e\"], [0.4444444444444444, \"#bd3786\"], [0.5555555555555556, \"#d8576b\"], [0.6666666666666666, \"#ed7953\"], [0.7777777777777778, \"#fb9f3a\"], [0.8888888888888888, \"#fdca26\"], [1.0, \"#f0f921\"]], \"type\": \"heatmapgl\"}], \"histogram\": [{\"marker\": {\"colorbar\": {\"outlinewidth\": 0, \"ticks\": \"\"}}, \"type\": \"histogram\"}], \"histogram2d\": [{\"colorbar\": {\"outlinewidth\": 0, \"ticks\": \"\"}, \"colorscale\": [[0.0, \"#0d0887\"], [0.1111111111111111, \"#46039f\"], [0.2222222222222222, \"#7201a8\"], [0.3333333333333333, \"#9c179e\"], [0.4444444444444444, \"#bd3786\"], [0.5555555555555556, \"#d8576b\"], [0.6666666666666666, \"#ed7953\"], [0.7777777777777778, \"#fb9f3a\"], [0.8888888888888888, \"#fdca26\"], [1.0, \"#f0f921\"]], \"type\": \"histogram2d\"}], \"histogram2dcontour\": [{\"colorbar\": {\"outlinewidth\": 0, \"ticks\": \"\"}, \"colorscale\": [[0.0, \"#0d0887\"], [0.1111111111111111, \"#46039f\"], [0.2222222222222222, \"#7201a8\"], [0.3333333333333333, \"#9c179e\"], [0.4444444444444444, \"#bd3786\"], [0.5555555555555556, \"#d8576b\"], [0.6666666666666666, \"#ed7953\"], [0.7777777777777778, \"#fb9f3a\"], [0.8888888888888888, \"#fdca26\"], [1.0, \"#f0f921\"]], \"type\": \"histogram2dcontour\"}], \"mesh3d\": [{\"colorbar\": {\"outlinewidth\": 0, \"ticks\": \"\"}, \"type\": \"mesh3d\"}], \"parcoords\": [{\"line\": {\"colorbar\": {\"outlinewidth\": 0, \"ticks\": \"\"}}, \"type\": \"parcoords\"}], \"pie\": [{\"automargin\": true, \"type\": \"pie\"}], \"scatter\": [{\"marker\": {\"colorbar\": {\"outlinewidth\": 0, \"ticks\": \"\"}}, \"type\": \"scatter\"}], \"scatter3d\": [{\"line\": {\"colorbar\": {\"outlinewidth\": 0, \"ticks\": \"\"}}, \"marker\": {\"colorbar\": {\"outlinewidth\": 0, \"ticks\": \"\"}}, \"type\": \"scatter3d\"}], \"scattercarpet\": [{\"marker\": {\"colorbar\": {\"outlinewidth\": 0, \"ticks\": \"\"}}, \"type\": \"scattercarpet\"}], \"scattergeo\": [{\"marker\": {\"colorbar\": {\"outlinewidth\": 0, \"ticks\": \"\"}}, \"type\": \"scattergeo\"}], \"scattergl\": [{\"marker\": {\"colorbar\": {\"outlinewidth\": 0, \"ticks\": \"\"}}, \"type\": \"scattergl\"}], \"scattermapbox\": [{\"marker\": {\"colorbar\": {\"outlinewidth\": 0, \"ticks\": \"\"}}, \"type\": \"scattermapbox\"}], \"scatterpolar\": [{\"marker\": {\"colorbar\": {\"outlinewidth\": 0, \"ticks\": \"\"}}, \"type\": \"scatterpolar\"}], \"scatterpolargl\": [{\"marker\": {\"colorbar\": {\"outlinewidth\": 0, \"ticks\": \"\"}}, \"type\": \"scatterpolargl\"}], \"scatterternary\": [{\"marker\": {\"colorbar\": {\"outlinewidth\": 0, \"ticks\": \"\"}}, \"type\": \"scatterternary\"}], \"surface\": [{\"colorbar\": {\"outlinewidth\": 0, \"ticks\": \"\"}, \"colorscale\": [[0.0, \"#0d0887\"], [0.1111111111111111, \"#46039f\"], [0.2222222222222222, \"#7201a8\"], [0.3333333333333333, \"#9c179e\"], [0.4444444444444444, \"#bd3786\"], [0.5555555555555556, \"#d8576b\"], [0.6666666666666666, \"#ed7953\"], [0.7777777777777778, \"#fb9f3a\"], [0.8888888888888888, \"#fdca26\"], [1.0, \"#f0f921\"]], \"type\": \"surface\"}], \"table\": [{\"cells\": {\"fill\": {\"color\": \"#EBF0F8\"}, \"line\": {\"color\": \"white\"}}, \"header\": {\"fill\": {\"color\": \"#C8D4E3\"}, \"line\": {\"color\": \"white\"}}, \"type\": \"table\"}]}, \"layout\": {\"annotationdefaults\": {\"arrowcolor\": \"#2a3f5f\", \"arrowhead\": 0, \"arrowwidth\": 1}, \"coloraxis\": {\"colorbar\": {\"outlinewidth\": 0, \"ticks\": \"\"}}, \"colorscale\": {\"diverging\": [[0, \"#8e0152\"], [0.1, \"#c51b7d\"], [0.2, \"#de77ae\"], [0.3, \"#f1b6da\"], [0.4, \"#fde0ef\"], [0.5, \"#f7f7f7\"], [0.6, \"#e6f5d0\"], [0.7, \"#b8e186\"], [0.8, \"#7fbc41\"], [0.9, \"#4d9221\"], [1, \"#276419\"]], \"sequential\": [[0.0, \"#0d0887\"], [0.1111111111111111, \"#46039f\"], [0.2222222222222222, \"#7201a8\"], [0.3333333333333333, \"#9c179e\"], [0.4444444444444444, \"#bd3786\"], [0.5555555555555556, \"#d8576b\"], [0.6666666666666666, \"#ed7953\"], [0.7777777777777778, \"#fb9f3a\"], [0.8888888888888888, \"#fdca26\"], [1.0, \"#f0f921\"]], \"sequentialminus\": [[0.0, \"#0d0887\"], [0.1111111111111111, \"#46039f\"], [0.2222222222222222, \"#7201a8\"], [0.3333333333333333, \"#9c179e\"], [0.4444444444444444, \"#bd3786\"], [0.5555555555555556, \"#d8576b\"], [0.6666666666666666, \"#ed7953\"], [0.7777777777777778, \"#fb9f3a\"], [0.8888888888888888, \"#fdca26\"], [1.0, \"#f0f921\"]]}, \"colorway\": [\"#636efa\", \"#EF553B\", \"#00cc96\", \"#ab63fa\", \"#FFA15A\", \"#19d3f3\", \"#FF6692\", \"#B6E880\", \"#FF97FF\", \"#FECB52\"], \"font\": {\"color\": \"#2a3f5f\"}, \"geo\": {\"bgcolor\": \"white\", \"lakecolor\": \"white\", \"landcolor\": \"#E5ECF6\", \"showlakes\": true, \"showland\": true, \"subunitcolor\": \"white\"}, \"hoverlabel\": {\"align\": \"left\"}, \"hovermode\": \"closest\", \"mapbox\": {\"style\": \"light\"}, \"paper_bgcolor\": \"white\", \"plot_bgcolor\": \"#E5ECF6\", \"polar\": {\"angularaxis\": {\"gridcolor\": \"white\", \"linecolor\": \"white\", \"ticks\": \"\"}, \"bgcolor\": \"#E5ECF6\", \"radialaxis\": {\"gridcolor\": \"white\", \"linecolor\": \"white\", \"ticks\": \"\"}}, \"scene\": {\"xaxis\": {\"backgroundcolor\": \"#E5ECF6\", \"gridcolor\": \"white\", \"gridwidth\": 2, \"linecolor\": \"white\", \"showbackground\": true, \"ticks\": \"\", \"zerolinecolor\": \"white\"}, \"yaxis\": {\"backgroundcolor\": \"#E5ECF6\", \"gridcolor\": \"white\", \"gridwidth\": 2, \"linecolor\": \"white\", \"showbackground\": true, \"ticks\": \"\", \"zerolinecolor\": \"white\"}, \"zaxis\": {\"backgroundcolor\": \"#E5ECF6\", \"gridcolor\": \"white\", \"gridwidth\": 2, \"linecolor\": \"white\", \"showbackground\": true, \"ticks\": \"\", \"zerolinecolor\": \"white\"}}, \"shapedefaults\": {\"line\": {\"color\": \"#2a3f5f\"}}, \"ternary\": {\"aaxis\": {\"gridcolor\": \"white\", \"linecolor\": \"white\", \"ticks\": \"\"}, \"baxis\": {\"gridcolor\": \"white\", \"linecolor\": \"white\", \"ticks\": \"\"}, \"bgcolor\": \"#E5ECF6\", \"caxis\": {\"gridcolor\": \"white\", \"linecolor\": \"white\", \"ticks\": \"\"}}, \"title\": {\"x\": 0.05}, \"xaxis\": {\"automargin\": true, \"gridcolor\": \"white\", \"linecolor\": \"white\", \"ticks\": \"\", \"title\": {\"standoff\": 15}, \"zerolinecolor\": \"white\", \"zerolinewidth\": 2}, \"yaxis\": {\"automargin\": true, \"gridcolor\": \"white\", \"linecolor\": \"white\", \"ticks\": \"\", \"title\": {\"standoff\": 15}, \"zerolinecolor\": \"white\", \"zerolinewidth\": 2}}}, \"title\": {\"font\": {\"color\": \"#4D5663\"}, \"text\": \"Stacked\"}, \"xaxis\": {\"gridcolor\": \"#E1E5ED\", \"showgrid\": true, \"tickfont\": {\"color\": \"#4D5663\"}, \"title\": {\"font\": {\"color\": \"#4D5663\"}, \"text\": \"Repeats\"}, \"zerolinecolor\": \"#E1E5ED\"}, \"yaxis\": {\"gridcolor\": \"#E1E5ED\", \"showgrid\": true, \"tickfont\": {\"color\": \"#4D5663\"}, \"title\": {\"font\": {\"color\": \"#4D5663\"}, \"text\": \"Number of reads\"}, \"zerolinecolor\": \"#E1E5ED\"}},\n",
       "                        {\"showLink\": true, \"linkText\": \"Export to plot.ly\", \"plotlyServerURL\": \"https://plot.ly\", \"responsive\": true}\n",
       "                    ).then(function(){\n",
       "                            \n",
       "var gd = document.getElementById('dc874501-faa1-4f69-a6b4-704f29364206');\n",
       "var x = new MutationObserver(function (mutations, observer) {{\n",
       "        var display = window.getComputedStyle(gd).display;\n",
       "        if (!display || display === 'none') {{\n",
       "            console.log([gd, 'removed!']);\n",
       "            Plotly.purge(gd);\n",
       "            observer.disconnect();\n",
       "        }}\n",
       "}});\n",
       "\n",
       "// Listen for the removal of the full notebook cells\n",
       "var notebookContainer = gd.closest('#notebook-container');\n",
       "if (notebookContainer) {{\n",
       "    x.observe(notebookContainer, {childList: true});\n",
       "}}\n",
       "\n",
       "// Listen for the clearing of the current output cell\n",
       "var outputEl = gd.closest('.output');\n",
       "if (outputEl) {{\n",
       "    x.observe(outputEl, {childList: true});\n",
       "}}\n",
       "\n",
       "                        })\n",
       "                };\n",
       "                });\n",
       "            </script>\n",
       "        </div>"
      ]
     },
     "metadata": {},
     "output_type": "display_data"
    }
   ],
   "source": [
    "#YOUR CODE HERE\n",
    "# arrange the data of the final_df dataframe in a pivot with columns the different base types and rows the distance values.\n",
    "final_df = final_df.pivot(columns='base', values='distance')\n",
    "# plot the data using cufflinks offline.\n",
    "final_df.iplot(kind='hist', barmode='stack', xTitle='Repeats', yTitle='Number of reads', title='Stacked')"
   ]
  }
 ],
 "metadata": {
  "kernelspec": {
   "display_name": "Python 3",
   "language": "python",
   "name": "python3"
  },
  "language_info": {
   "codemirror_mode": {
    "name": "ipython",
    "version": 3
   },
   "file_extension": ".py",
   "mimetype": "text/x-python",
   "name": "python",
   "nbconvert_exporter": "python",
   "pygments_lexer": "ipython3",
   "version": "3.7.4"
  }
 },
 "nbformat": 4,
 "nbformat_minor": 2
}
